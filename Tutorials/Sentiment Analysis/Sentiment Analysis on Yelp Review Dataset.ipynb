{
 "cells": [
  {
   "cell_type": "markdown",
   "id": "ad00849e",
   "metadata": {},
   "source": [
    "# Sentiment Analysis on Yelp Review Dataset\n",
    "\n",
    "In this tutorial notebook, I am going to learn from Delip Rao and Brian McMahan's book \"Natural Language Processing with PyTorch\" and modify it to further understand it. We will be building a Sentiment Analyzer for the Yelp Review Dataset. \n",
    "\n",
    "First, we have to split the dataset into three sets: Training, Validation and Testing. \n",
    "\n",
    "From training dataset, our model will derive parameters, with validation set, our model can make decisions (by selecting among hyperparameters) and the testing set for final evaluation.\n",
    "\n",
    "I have downloaded the Dataset from this [link](https://www.kaggle.com/datasets/ilhamfp31/yelp-review-dataset)\n",
    "\n",
    "I am storing this under the `/data` folder under the name `yelp_review`"
   ]
  },
  {
   "cell_type": "markdown",
   "id": "0e5fb376",
   "metadata": {},
   "source": [
    "## 1. Data Preprocessing"
   ]
  },
  {
   "cell_type": "code",
   "execution_count": 1,
   "id": "e394f489",
   "metadata": {},
   "outputs": [],
   "source": [
    "# Import Statements\n",
    "import pandas as pd\n",
    "import numpy as np\n",
    "import re\n",
    "import collections"
   ]
  },
  {
   "cell_type": "code",
   "execution_count": 2,
   "id": "e0f7c4ac",
   "metadata": {},
   "outputs": [],
   "source": [
    "np.random.seed(42)"
   ]
  },
  {
   "cell_type": "code",
   "execution_count": 3,
   "id": "851f9ca4",
   "metadata": {},
   "outputs": [],
   "source": [
    "data_base_dir = \"data/yelp_review/\"\n",
    "train_dataset = pd.read_csv(data_base_dir+\"train.csv\", header = None)\n",
    "test_dataset = pd.read_csv(data_base_dir+\"test.csv\", header = None)"
   ]
  },
  {
   "cell_type": "markdown",
   "id": "95c2c78d",
   "metadata": {},
   "source": [
    "We have to see the distribution of data, having uneven data will make our model more biased."
   ]
  },
  {
   "cell_type": "code",
   "execution_count": 4,
   "id": "f1132e90",
   "metadata": {},
   "outputs": [],
   "source": [
    "train_dataset.columns = [\"Rating\", \"Review\"]\n",
    "test_dataset.columns = [\"Rating\", \"Review\"]"
   ]
  },
  {
   "cell_type": "code",
   "execution_count": 5,
   "id": "597b4157",
   "metadata": {},
   "outputs": [
    {
     "name": "stdout",
     "output_type": "stream",
     "text": [
      "<class 'pandas.core.frame.DataFrame'>\n",
      "RangeIndex: 560000 entries, 0 to 559999\n",
      "Data columns (total 2 columns):\n",
      " #   Column  Non-Null Count   Dtype \n",
      "---  ------  --------------   ----- \n",
      " 0   Rating  560000 non-null  int64 \n",
      " 1   Review  560000 non-null  object\n",
      "dtypes: int64(1), object(1)\n",
      "memory usage: 8.5+ MB\n"
     ]
    }
   ],
   "source": [
    "train_dataset.info()"
   ]
  },
  {
   "cell_type": "markdown",
   "id": "076e101d",
   "metadata": {},
   "source": [
    "There are 560,000 review in our dataset. Let us see the distribution for Positive reviews and Negative reviews."
   ]
  },
  {
   "cell_type": "code",
   "execution_count": 6,
   "id": "2ffc2bce",
   "metadata": {},
   "outputs": [
    {
     "data": {
      "text/plain": [
       "1    280000\n",
       "2    280000\n",
       "Name: Rating, dtype: int64"
      ]
     },
     "execution_count": 6,
     "metadata": {},
     "output_type": "execute_result"
    }
   ],
   "source": [
    "train_dataset[\"Rating\"].value_counts()"
   ]
  },
  {
   "cell_type": "markdown",
   "id": "2b8ba45e",
   "metadata": {},
   "source": [
    "It looks like we have equal distribution, we need to take a subset of this Dataset, about `10%` with the same distribution. Before we do that, let us check the distribution of `test_dataset`."
   ]
  },
  {
   "cell_type": "code",
   "execution_count": 7,
   "id": "ff4b6998",
   "metadata": {},
   "outputs": [
    {
     "data": {
      "text/plain": [
       "2    19000\n",
       "1    19000\n",
       "Name: Rating, dtype: int64"
      ]
     },
     "execution_count": 7,
     "metadata": {},
     "output_type": "execute_result"
    }
   ],
   "source": [
    "test_dataset[\"Rating\"].value_counts()"
   ]
  },
  {
   "cell_type": "markdown",
   "id": "9223ceeb",
   "metadata": {},
   "source": [
    "Even `test_dataset` has the same equal distribution, we want to be able to create three sets: Train, Val, Test. "
   ]
  },
  {
   "cell_type": "code",
   "execution_count": 8,
   "id": "19866655",
   "metadata": {},
   "outputs": [
    {
     "data": {
      "text/html": [
       "<div>\n",
       "<style scoped>\n",
       "    .dataframe tbody tr th:only-of-type {\n",
       "        vertical-align: middle;\n",
       "    }\n",
       "\n",
       "    .dataframe tbody tr th {\n",
       "        vertical-align: top;\n",
       "    }\n",
       "\n",
       "    .dataframe thead th {\n",
       "        text-align: right;\n",
       "    }\n",
       "</style>\n",
       "<table border=\"1\" class=\"dataframe\">\n",
       "  <thead>\n",
       "    <tr style=\"text-align: right;\">\n",
       "      <th></th>\n",
       "      <th>Rating</th>\n",
       "      <th>Review</th>\n",
       "    </tr>\n",
       "  </thead>\n",
       "  <tbody>\n",
       "    <tr>\n",
       "      <th>0</th>\n",
       "      <td>1</td>\n",
       "      <td>Unfortunately, the frustration of being Dr. Go...</td>\n",
       "    </tr>\n",
       "    <tr>\n",
       "      <th>1</th>\n",
       "      <td>2</td>\n",
       "      <td>Been going to Dr. Goldberg for over 10 years. ...</td>\n",
       "    </tr>\n",
       "    <tr>\n",
       "      <th>2</th>\n",
       "      <td>1</td>\n",
       "      <td>I don't know what Dr. Goldberg was like before...</td>\n",
       "    </tr>\n",
       "    <tr>\n",
       "      <th>3</th>\n",
       "      <td>1</td>\n",
       "      <td>I'm writing this review to give you a heads up...</td>\n",
       "    </tr>\n",
       "    <tr>\n",
       "      <th>4</th>\n",
       "      <td>2</td>\n",
       "      <td>All the food is great here. But the best thing...</td>\n",
       "    </tr>\n",
       "  </tbody>\n",
       "</table>\n",
       "</div>"
      ],
      "text/plain": [
       "   Rating                                             Review\n",
       "0       1  Unfortunately, the frustration of being Dr. Go...\n",
       "1       2  Been going to Dr. Goldberg for over 10 years. ...\n",
       "2       1  I don't know what Dr. Goldberg was like before...\n",
       "3       1  I'm writing this review to give you a heads up...\n",
       "4       2  All the food is great here. But the best thing..."
      ]
     },
     "execution_count": 8,
     "metadata": {},
     "output_type": "execute_result"
    }
   ],
   "source": [
    "main_dataset = pd.concat([train_dataset, test_dataset], ignore_index= True)\n",
    "main_dataset.head()"
   ]
  },
  {
   "cell_type": "code",
   "execution_count": 9,
   "id": "1dff12fe",
   "metadata": {},
   "outputs": [
    {
     "data": {
      "text/plain": [
       "1    299000\n",
       "2    299000\n",
       "Name: Rating, dtype: int64"
      ]
     },
     "execution_count": 9,
     "metadata": {},
     "output_type": "execute_result"
    }
   ],
   "source": [
    "main_dataset[\"Rating\"].value_counts()"
   ]
  },
  {
   "cell_type": "markdown",
   "id": "b76c31a1",
   "metadata": {},
   "source": [
    "I have combined both the Training dataset and the Testing dataset. We are going to create three new subsets from these. \n",
    "\n",
    "`Train - 70%, Val - 15%, Test - 15%`"
   ]
  },
  {
   "cell_type": "code",
   "execution_count": 10,
   "id": "b3e0debc",
   "metadata": {},
   "outputs": [],
   "source": [
    "main_dataset = main_dataset.sample(frac=1).reset_index(drop=True)"
   ]
  },
  {
   "cell_type": "code",
   "execution_count": 11,
   "id": "e962619d",
   "metadata": {},
   "outputs": [
    {
     "data": {
      "text/html": [
       "<div>\n",
       "<style scoped>\n",
       "    .dataframe tbody tr th:only-of-type {\n",
       "        vertical-align: middle;\n",
       "    }\n",
       "\n",
       "    .dataframe tbody tr th {\n",
       "        vertical-align: top;\n",
       "    }\n",
       "\n",
       "    .dataframe thead th {\n",
       "        text-align: right;\n",
       "    }\n",
       "</style>\n",
       "<table border=\"1\" class=\"dataframe\">\n",
       "  <thead>\n",
       "    <tr style=\"text-align: right;\">\n",
       "      <th></th>\n",
       "      <th>Rating</th>\n",
       "      <th>Review</th>\n",
       "    </tr>\n",
       "  </thead>\n",
       "  <tbody>\n",
       "    <tr>\n",
       "      <th>0</th>\n",
       "      <td>2</td>\n",
       "      <td>I'm so glad my friends told me to go here!! Wo...</td>\n",
       "    </tr>\n",
       "    <tr>\n",
       "      <th>1</th>\n",
       "      <td>1</td>\n",
       "      <td>I was really looking forward to trying this pl...</td>\n",
       "    </tr>\n",
       "    <tr>\n",
       "      <th>2</th>\n",
       "      <td>1</td>\n",
       "      <td>I didnt know \\\"sh*tty wok\\\" from south park ex...</td>\n",
       "    </tr>\n",
       "    <tr>\n",
       "      <th>3</th>\n",
       "      <td>2</td>\n",
       "      <td>I was looking for a pizza delivery place w/ mo...</td>\n",
       "    </tr>\n",
       "    <tr>\n",
       "      <th>4</th>\n",
       "      <td>2</td>\n",
       "      <td>Solid breakfast food.</td>\n",
       "    </tr>\n",
       "  </tbody>\n",
       "</table>\n",
       "</div>"
      ],
      "text/plain": [
       "   Rating                                             Review\n",
       "0       2  I'm so glad my friends told me to go here!! Wo...\n",
       "1       1  I was really looking forward to trying this pl...\n",
       "2       1  I didnt know \\\"sh*tty wok\\\" from south park ex...\n",
       "3       2  I was looking for a pizza delivery place w/ mo...\n",
       "4       2                              Solid breakfast food."
      ]
     },
     "execution_count": 11,
     "metadata": {},
     "output_type": "execute_result"
    }
   ],
   "source": [
    "main_dataset.head()"
   ]
  },
  {
   "cell_type": "code",
   "execution_count": 12,
   "id": "d4c1b47d",
   "metadata": {},
   "outputs": [],
   "source": [
    "main_dataset = main_dataset[:int(0.1*len(main_dataset))]"
   ]
  },
  {
   "cell_type": "code",
   "execution_count": 13,
   "id": "4dd689db",
   "metadata": {},
   "outputs": [
    {
     "name": "stdout",
     "output_type": "stream",
     "text": [
      "59800\n"
     ]
    }
   ],
   "source": [
    "split = []\n",
    "dataset_size = len(main_dataset)\n",
    "train_rec = int(0.7 * dataset_size)\n",
    "test_rec = int(0.15 * dataset_size)\n",
    "val_rec = dataset_size - train_rec - test_rec\n",
    "for i in range(train_rec):\n",
    "    split.append(\"train\")\n",
    "for i in range(test_rec):\n",
    "    split.append(\"test\")\n",
    "for i in range(val_rec):\n",
    "    split.append(\"val\")\n",
    "    \n",
    "print(len(split))"
   ]
  },
  {
   "cell_type": "code",
   "execution_count": 14,
   "id": "12ed9c54",
   "metadata": {},
   "outputs": [],
   "source": [
    "main_dataset[\"split\"] = split"
   ]
  },
  {
   "cell_type": "code",
   "execution_count": 15,
   "id": "8edd9a5d",
   "metadata": {},
   "outputs": [
    {
     "data": {
      "text/plain": [
       "train    41860\n",
       "test      8970\n",
       "val       8970\n",
       "Name: split, dtype: int64"
      ]
     },
     "execution_count": 15,
     "metadata": {},
     "output_type": "execute_result"
    }
   ],
   "source": [
    "main_dataset[\"split\"].value_counts()"
   ]
  },
  {
   "cell_type": "code",
   "execution_count": 16,
   "id": "0c74ae07",
   "metadata": {},
   "outputs": [
    {
     "data": {
      "text/plain": [
       "1    29990\n",
       "2    29810\n",
       "Name: Rating, dtype: int64"
      ]
     },
     "execution_count": 16,
     "metadata": {},
     "output_type": "execute_result"
    }
   ],
   "source": [
    "main_dataset[\"Rating\"].value_counts()"
   ]
  },
  {
   "cell_type": "code",
   "execution_count": 17,
   "id": "eb1410c7",
   "metadata": {},
   "outputs": [],
   "source": [
    "def cleaning_dataset(review):\n",
    "    review = review.lower()\n",
    "    review = re.sub(r'([.,?!])', r' \\1', review)\n",
    "    review = re.sub(r'([^a-zA-Z.,!?])', r' ', review)\n",
    "    return review"
   ]
  },
  {
   "cell_type": "code",
   "execution_count": 19,
   "id": "b8bef104",
   "metadata": {},
   "outputs": [],
   "source": [
    "main_dataset[\"Review\"] = main_dataset[\"Review\"].apply(cleaning_dataset)"
   ]
  },
  {
   "cell_type": "code",
   "execution_count": 21,
   "id": "e8f585b4",
   "metadata": {},
   "outputs": [
    {
     "data": {
      "text/html": [
       "<div>\n",
       "<style scoped>\n",
       "    .dataframe tbody tr th:only-of-type {\n",
       "        vertical-align: middle;\n",
       "    }\n",
       "\n",
       "    .dataframe tbody tr th {\n",
       "        vertical-align: top;\n",
       "    }\n",
       "\n",
       "    .dataframe thead th {\n",
       "        text-align: right;\n",
       "    }\n",
       "</style>\n",
       "<table border=\"1\" class=\"dataframe\">\n",
       "  <thead>\n",
       "    <tr style=\"text-align: right;\">\n",
       "      <th></th>\n",
       "      <th>Rating</th>\n",
       "      <th>Review</th>\n",
       "      <th>split</th>\n",
       "    </tr>\n",
       "  </thead>\n",
       "  <tbody>\n",
       "    <tr>\n",
       "      <th>0</th>\n",
       "      <td>2</td>\n",
       "      <td>i m so glad my friends told me to go here ! ! ...</td>\n",
       "      <td>train</td>\n",
       "    </tr>\n",
       "    <tr>\n",
       "      <th>1</th>\n",
       "      <td>1</td>\n",
       "      <td>i was really looking forward to trying this pl...</td>\n",
       "      <td>train</td>\n",
       "    </tr>\n",
       "    <tr>\n",
       "      <th>2</th>\n",
       "      <td>1</td>\n",
       "      <td>i didnt know   sh tty wok   from south park ex...</td>\n",
       "      <td>train</td>\n",
       "    </tr>\n",
       "    <tr>\n",
       "      <th>3</th>\n",
       "      <td>2</td>\n",
       "      <td>i was looking for a pizza delivery place w  mo...</td>\n",
       "      <td>train</td>\n",
       "    </tr>\n",
       "    <tr>\n",
       "      <th>4</th>\n",
       "      <td>2</td>\n",
       "      <td>solid breakfast food .</td>\n",
       "      <td>train</td>\n",
       "    </tr>\n",
       "  </tbody>\n",
       "</table>\n",
       "</div>"
      ],
      "text/plain": [
       "   Rating                                             Review  split\n",
       "0       2  i m so glad my friends told me to go here ! ! ...  train\n",
       "1       1  i was really looking forward to trying this pl...  train\n",
       "2       1  i didnt know   sh tty wok   from south park ex...  train\n",
       "3       2  i was looking for a pizza delivery place w  mo...  train\n",
       "4       2                             solid breakfast food .  train"
      ]
     },
     "execution_count": 21,
     "metadata": {},
     "output_type": "execute_result"
    }
   ],
   "source": [
    "main_dataset.head()"
   ]
  },
  {
   "cell_type": "code",
   "execution_count": null,
   "id": "f83e9251",
   "metadata": {},
   "outputs": [],
   "source": []
  }
 ],
 "metadata": {
  "kernelspec": {
   "display_name": "Python 3 (ipykernel)",
   "language": "python",
   "name": "python3"
  },
  "language_info": {
   "codemirror_mode": {
    "name": "ipython",
    "version": 3
   },
   "file_extension": ".py",
   "mimetype": "text/x-python",
   "name": "python",
   "nbconvert_exporter": "python",
   "pygments_lexer": "ipython3",
   "version": "3.11.3"
  }
 },
 "nbformat": 4,
 "nbformat_minor": 5
}
