{
 "cells": [
  {
   "cell_type": "markdown",
   "id": "5345f2a1",
   "metadata": {},
   "source": [
    "# CIFAR_10 Image Classifier\n",
    "We are going to create a baseline model which can perform classification on CIFAR_10 dataset. We will be doing the following things:\n",
    "1. Load CIFAR_10 and normalize it\n",
    "2. Build a Neural Network - CNN\n",
    "3. Define a Loss Function\n",
    "4. Training Neural Network\n",
    "5. Testing Neural Network\n",
    "\n",
    "Let's get started"
   ]
  },
  {
   "cell_type": "markdown",
   "id": "20dcb4dd",
   "metadata": {},
   "source": [
    "## 1. Load CIFAR_10 and Normalize it"
   ]
  },
  {
   "cell_type": "code",
   "execution_count": 9,
   "id": "b8284fcc",
   "metadata": {},
   "outputs": [],
   "source": [
    "# Importing Libraries\n",
    "import torch\n",
    "import torchvision\n",
    "import torchvision.transforms as transforms\n",
    "import matplotlib.pyplot as plt"
   ]
  },
  {
   "cell_type": "markdown",
   "id": "20c39f96",
   "metadata": {},
   "source": [
    "I read that the output of `torchvision.datasets` are PIL Images in the range `[0,1]`. We can transform them to the range `[-1,1]` - Normalization."
   ]
  },
  {
   "cell_type": "code",
   "execution_count": 2,
   "id": "fa5ed8ba",
   "metadata": {},
   "outputs": [],
   "source": [
    "transform = transforms.Compose([\n",
    "    transforms.ToTensor(),\n",
    "    transforms.Normalize((0.5, 0.5, 0.5),(0.5, 0.5, 0.5))\n",
    "])"
   ]
  },
  {
   "cell_type": "code",
   "execution_count": 3,
   "id": "bb17de44",
   "metadata": {},
   "outputs": [
    {
     "name": "stdout",
     "output_type": "stream",
     "text": [
      "Downloading https://www.cs.toronto.edu/~kriz/cifar-10-python.tar.gz to data/cifar-10-python.tar.gz\n"
     ]
    },
    {
     "name": "stderr",
     "output_type": "stream",
     "text": [
      "100%|████████████████████████| 170498071/170498071 [01:27<00:00, 1944815.36it/s]\n"
     ]
    },
    {
     "name": "stdout",
     "output_type": "stream",
     "text": [
      "Extracting data/cifar-10-python.tar.gz to data\n",
      "Files already downloaded and verified\n"
     ]
    }
   ],
   "source": [
    "batch_size = 4\n",
    "training_dataset = torchvision.datasets.CIFAR10(\n",
    "        root = \"data\",\n",
    "        train= True,\n",
    "        download= True,\n",
    "        transform = transform\n",
    ")\n",
    "test_dataset = torchvision.datasets.CIFAR10(\n",
    "        root = \"data\",\n",
    "        train = False,\n",
    "        download = True,\n",
    "        transform = transform\n",
    ")"
   ]
  },
  {
   "cell_type": "code",
   "execution_count": 4,
   "id": "59234cfa",
   "metadata": {},
   "outputs": [],
   "source": [
    "trainloader = torch.utils.data.DataLoader(training_dataset, batch_size = batch_size, shuffle = True, num_workers = 2)\n",
    "testloader = torch.utils.data.DataLoader(test_dataset, batch_size = batch_size, shuffle = False, num_workers = 2)"
   ]
  },
  {
   "cell_type": "code",
   "execution_count": 6,
   "id": "22f645fd",
   "metadata": {},
   "outputs": [
    {
     "name": "stdout",
     "output_type": "stream",
     "text": [
      "{0: 'airplane', 1: 'automobile', 2: 'bird', 3: 'cat', 4: 'deer', 5: 'dog', 6: 'frog', 7: 'horse', 8: 'ship', 9: 'truck'}\n"
     ]
    }
   ],
   "source": [
    "labels_map = dict((v,k) for k,v in training_dataset.class_to_idx.items())\n",
    "print(labels_map)"
   ]
  },
  {
   "cell_type": "code",
   "execution_count": 7,
   "id": "f8852b68",
   "metadata": {},
   "outputs": [],
   "source": [
    "classes = (\"airplane\", \"automobile\", \"bird\", \"cat\", \"deer\", \"dog\", \"frog\", \"horse\", \"ship\", \"truck\")"
   ]
  },
  {
   "cell_type": "code",
   "execution_count": 12,
   "id": "03113468",
   "metadata": {},
   "outputs": [],
   "source": [
    "def cifar_display(image):\n",
    "    image = image / 2 + 0.5 # Unnormalizing\n",
    "    image = image.permute(1,2,0)\n",
    "    plt.imshow(image)"
   ]
  },
  {
   "cell_type": "code",
   "execution_count": 13,
   "id": "7e476938",
   "metadata": {},
   "outputs": [
    {
     "name": "stdout",
     "output_type": "stream",
     "text": [
      "frog  ship  ship  ship \n"
     ]
    },
    {
     "data": {
      "image/png": "[encoded data removed]",
      "text/plain": [
       "<Figure size 640x480 with 1 Axes>"
      ]
     },
     "metadata": {},
     "output_type": "display_data"
    }
   ],
   "source": [
    "datatiter = iter(trainloader)\n",
    "images, labels = next(datatiter)\n",
    "\n",
    "# show images\n",
    "cifar_display(torchvision.utils.make_grid(images))\n",
    "# print labels\n",
    "print(' '.join(f'{classes[labels[j]]:5s}' for j in range(batch_size)))"
   ]
  },
  {
   "cell_type": "markdown",
   "id": "4dde8bd2",
   "metadata": {},
   "source": [
    "## 2. Build a Neural Network - CNN"
   ]
  },
  {
   "cell_type": "code",
   "execution_count": 14,
   "id": "303b38de",
   "metadata": {},
   "outputs": [],
   "source": [
    "import torch.nn as nn\n",
    "import torch.nn.functional as F"
   ]
  },
  {
   "cell_type": "code",
   "execution_count": 15,
   "id": "db14d13c",
   "metadata": {},
   "outputs": [],
   "source": [
    "class CIFARNet(nn.Module):\n",
    "    def __init__(self):\n",
    "        super().__init__()\n",
    "        # 3 input-channels (RGB), 6 output channels, 5x5 square convolution kernel\n",
    "        self.conv1 = nn.Conv2d(3, 6, 5)\n",
    "        self.pool = nn.MaxPool2d(2,2)\n",
    "        self.conv2 = nn.Conv2d(6, 16, 5)\n",
    "        self.fc1 = nn.Linear(16*5*5, 120)\n",
    "        self.fc2 = nn.Linear(120, 84)\n",
    "        self.fc3 = nn.Linear(84, 10)\n",
    "        \n",
    "    def forward(self, x):\n",
    "        x = self.pool(F.relu(self.conv1(x)))\n",
    "        x = self.pool(F.relu(self.conv2(x)))\n",
    "        x = torch.flatten(x, 1) # Flatten all dimensions except batch\n",
    "        x = F.relu(self.fc1(x))\n",
    "        x = F.relu(self.fc2(x))\n",
    "        x = self.fc3(x)\n",
    "        return x    "
   ]
  },
  {
   "cell_type": "code",
   "execution_count": 16,
   "id": "ba0a902d",
   "metadata": {},
   "outputs": [],
   "source": [
    "model = CIFARNet()"
   ]
  },
  {
   "cell_type": "code",
   "execution_count": 17,
   "id": "81374cc9",
   "metadata": {},
   "outputs": [
    {
     "data": {
      "text/plain": [
       "CIFARNet(\n",
       "  (conv1): Conv2d(3, 6, kernel_size=(5, 5), stride=(1, 1))\n",
       "  (pool): MaxPool2d(kernel_size=2, stride=2, padding=0, dilation=1, ceil_mode=False)\n",
       "  (conv2): Conv2d(6, 16, kernel_size=(5, 5), stride=(1, 1))\n",
       "  (fc1): Linear(in_features=400, out_features=120, bias=True)\n",
       "  (fc2): Linear(in_features=120, out_features=84, bias=True)\n",
       "  (fc3): Linear(in_features=84, out_features=10, bias=True)\n",
       ")"
      ]
     },
     "execution_count": 17,
     "metadata": {},
     "output_type": "execute_result"
    }
   ],
   "source": [
    "model.to(\"mps\")"
   ]
  },
  {
   "cell_type": "markdown",
   "id": "d08e4a1a",
   "metadata": {},
   "source": [
    "## 3. Define a Loss function"
   ]
  },
  {
   "cell_type": "code",
   "execution_count": null,
   "id": "ce72a983",
   "metadata": {},
   "outputs": [],
   "source": []
  },
  {
   "cell_type": "markdown",
   "id": "a544c012",
   "metadata": {},
   "source": [
    "## 4. Training a Neural Network"
   ]
  },
  {
   "cell_type": "code",
   "execution_count": null,
   "id": "23f42b07",
   "metadata": {},
   "outputs": [],
   "source": []
  },
  {
   "cell_type": "markdown",
   "id": "bc5a1f43",
   "metadata": {},
   "source": [
    "## 5. Testing a Neural Network"
   ]
  },
  {
   "cell_type": "code",
   "execution_count": null,
   "id": "bbedaecb",
   "metadata": {},
   "outputs": [],
   "source": []
  }
 ],
 "metadata": {
  "kernelspec": {
   "display_name": "Python 3 (ipykernel)",
   "language": "python",
   "name": "python3"
  },
  "language_info": {
   "codemirror_mode": {
    "name": "ipython",
    "version": 3
   },
   "file_extension": ".py",
   "mimetype": "text/x-python",
   "name": "python",
   "nbconvert_exporter": "python",
   "pygments_lexer": "ipython3",
   "version": "3.11.3"
  }
 },
 "nbformat": 4,
 "nbformat_minor": 5
}
