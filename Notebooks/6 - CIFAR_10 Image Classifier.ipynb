{
 "cells": [
  {
   "cell_type": "markdown",
   "id": "e64f9ca5",
   "metadata": {},
   "source": [
    "# CIFAR_10 Image Classifier\n",
    "We are going to create a baseline model which can perform classification on CIFAR_10 dataset. We will be doing the following things:\n",
    "1. Load CIFAR_10 and normalize it\n",
    "2. Build a Neural Network - CNN\n",
    "3. Define a Loss Function\n",
    "4. Training Neural Network\n"
   ]
  }
 ],
 "metadata": {
  "kernelspec": {
   "display_name": "Python 3 (ipykernel)",
   "language": "python",
   "name": "python3"
  },
  "language_info": {
   "codemirror_mode": {
    "name": "ipython",
    "version": 3
   },
   "file_extension": ".py",
   "mimetype": "text/x-python",
   "name": "python",
   "nbconvert_exporter": "python",
   "pygments_lexer": "ipython3",
   "version": "3.11.3"
  }
 },
 "nbformat": 4,
 "nbformat_minor": 5
}
