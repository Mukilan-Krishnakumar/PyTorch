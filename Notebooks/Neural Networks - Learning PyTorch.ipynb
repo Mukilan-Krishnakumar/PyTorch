{
 "cells": [
  {
   "cell_type": "markdown",
   "id": "86ac213b",
   "metadata": {},
   "source": [
    "# Neural Networks - Learning PyTorch\n",
    "\n",
    "In the last notebook, we learned about `Datasets`, `DataLoaders` and `Tranforms`. Now, we are going to begin the vast journey of `Neural Networks`. \n",
    "\n",
    "As the name suggests, it is trying to mimic the brain, it has neurons (perceptrons) which are the fundamental computing block. Neural Network consists of layers/modules that performs operations on the data. \n",
    "\n",
    "Let's get started. "
   ]
  },
  {
   "cell_type": "code",
   "execution_count": 1,
   "id": "8758911b",
   "metadata": {},
   "outputs": [],
   "source": [
    "# Importing Libraries\n",
    "import os\n",
    "import torch\n",
    "from torch import nn\n",
    "from torch.utils.data import DataLoader\n",
    "from torchvision import datasets, transforms"
   ]
  },
  {
   "cell_type": "markdown",
   "id": "245dc907",
   "metadata": {},
   "source": [
    "## 1. Getting Device for Training\n",
    "It is always better to train our model on a hardware accelerator such as \"CUDA\" or \"MPS\". I am running this from a Mac M1, so I know that I have \"MPS\". Let us check"
   ]
  },
  {
   "cell_type": "code",
   "execution_count": 2,
   "id": "6dbe784e",
   "metadata": {},
   "outputs": [
    {
     "name": "stdout",
     "output_type": "stream",
     "text": [
      "We are using mps\n"
     ]
    }
   ],
   "source": [
    "device = (\"mps\" if torch.backends.mps.is_available() else \"cpu\")\n",
    "print(f\"We are using {device}\")"
   ]
  },
  {
   "cell_type": "markdown",
   "id": "e7b5a195",
   "metadata": {},
   "source": [
    "## 2. Defining the Class \n",
    "We can define neural networks by subclassing `nn.Module` and initializing the neural network layers in the `__init__` function. \n",
    "\n",
    "> Every `nn.Module` subclass implements the operations on input data in the forward method."
   ]
  },
  {
   "cell_type": "markdown",
   "id": "ac0d555e",
   "metadata": {},
   "source": [
    "Let us look at the training data and testing data, Neural Networks all have a reson for their structure. People are not making things up (layers sizes) as they go. "
   ]
  },
  {
   "cell_type": "code",
   "execution_count": 4,
   "id": "0e097217",
   "metadata": {},
   "outputs": [],
   "source": [
    "training_data = datasets.OxfordIIITPet(\n",
    "    root=\"data\",\n",
    "    split = \"trainval\",\n",
    "    download=True,\n",
    "    transform= transforms.ToTensor()\n",
    ")\n",
    "\n",
    "test_data = datasets.OxfordIIITPet(\n",
    "    root=\"data\",\n",
    "    split = \"test\",\n",
    "    download=True,\n",
    "    transform= transforms.ToTensor()\n",
    ")"
   ]
  },
  {
   "cell_type": "code",
   "execution_count": 5,
   "id": "70bbe1c6",
   "metadata": {},
   "outputs": [
    {
     "data": {
      "text/plain": [
       "Dataset OxfordIIITPet\n",
       "    Number of datapoints: 3680\n",
       "    Root location: data\n",
       "    StandardTransform\n",
       "Transform: ToTensor()"
      ]
     },
     "execution_count": 5,
     "metadata": {},
     "output_type": "execute_result"
    }
   ],
   "source": [
    "training_data"
   ]
  },
  {
   "cell_type": "code",
   "execution_count": 6,
   "id": "52afb9b1",
   "metadata": {},
   "outputs": [
    {
     "data": {
      "text/plain": [
       "Dataset OxfordIIITPet\n",
       "    Number of datapoints: 3669\n",
       "    Root location: data\n",
       "    StandardTransform\n",
       "Transform: ToTensor()"
      ]
     },
     "execution_count": 6,
     "metadata": {},
     "output_type": "execute_result"
    }
   ],
   "source": [
    "test_data"
   ]
  },
  {
   "cell_type": "markdown",
   "id": "33dc4f8b",
   "metadata": {},
   "source": [
    "Let us print out the image sizes, to observe if they all have the same image shapes or do they differ."
   ]
  },
  {
   "cell_type": "code",
   "execution_count": 13,
   "id": "b2c3f670",
   "metadata": {},
   "outputs": [],
   "source": [
    "def print_image_size(dataset_obj, num_of_images):\n",
    "    for i in range(num_of_images):\n",
    "        sample_idx = torch.randint(len(dataset_obj), size = (1,)).item()\n",
    "        img, label = dataset_obj[sample_idx]\n",
    "        print(f\"Image {i}: {img.shape}\")"
   ]
  },
  {
   "cell_type": "code",
   "execution_count": 14,
   "id": "977ee3b0",
   "metadata": {},
   "outputs": [
    {
     "name": "stdout",
     "output_type": "stream",
     "text": [
      "Image 0: torch.Size([3, 500, 469])\n",
      "Image 1: torch.Size([3, 327, 500])\n",
      "Image 2: torch.Size([3, 333, 500])\n",
      "Image 3: torch.Size([3, 333, 500])\n",
      "Image 4: torch.Size([3, 202, 300])\n",
      "Image 5: torch.Size([3, 333, 500])\n",
      "Image 6: torch.Size([3, 300, 216])\n",
      "Image 7: torch.Size([3, 375, 500])\n",
      "Image 8: torch.Size([3, 385, 500])\n",
      "Image 9: torch.Size([3, 420, 500])\n"
     ]
    }
   ],
   "source": [
    "print_image_size(training_data, 10)"
   ]
  },
  {
   "cell_type": "markdown",
   "id": "aeb40cd1",
   "metadata": {},
   "source": [
    "As we can observe, the image shapes are very different. Only the colour channel is remaining the same, others are very different. We should have a way to send uniform image shape into our neural network. Let's also test the image shapes in Test Data."
   ]
  },
  {
   "cell_type": "code",
   "execution_count": 15,
   "id": "93e5d512",
   "metadata": {},
   "outputs": [
    {
     "name": "stdout",
     "output_type": "stream",
     "text": [
      "Image 0: torch.Size([3, 500, 457])\n",
      "Image 1: torch.Size([3, 500, 334])\n",
      "Image 2: torch.Size([3, 332, 500])\n",
      "Image 3: torch.Size([3, 375, 500])\n",
      "Image 4: torch.Size([3, 447, 500])\n",
      "Image 5: torch.Size([3, 500, 333])\n",
      "Image 6: torch.Size([3, 375, 500])\n",
      "Image 7: torch.Size([3, 334, 500])\n",
      "Image 8: torch.Size([3, 375, 500])\n",
      "Image 9: torch.Size([3, 332, 500])\n"
     ]
    }
   ],
   "source": [
    "print_image_size(test_data, 10)"
   ]
  },
  {
   "cell_type": "code",
   "execution_count": null,
   "id": "e7611c73",
   "metadata": {},
   "outputs": [],
   "source": []
  }
 ],
 "metadata": {
  "kernelspec": {
   "display_name": "Python 3 (ipykernel)",
   "language": "python",
   "name": "python3"
  },
  "language_info": {
   "codemirror_mode": {
    "name": "ipython",
    "version": 3
   },
   "file_extension": ".py",
   "mimetype": "text/x-python",
   "name": "python",
   "nbconvert_exporter": "python",
   "pygments_lexer": "ipython3",
   "version": "3.11.3"
  }
 },
 "nbformat": 4,
 "nbformat_minor": 5
}
