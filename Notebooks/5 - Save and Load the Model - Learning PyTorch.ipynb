{
 "cells": [
  {
   "cell_type": "markdown",
   "id": "a7ee5b68",
   "metadata": {},
   "source": [
    "# Save and Load the Model\n",
    "\n",
    "We can persists model state with saving, loading and running the model predictions."
   ]
  },
  {
   "cell_type": "code",
   "execution_count": 1,
   "id": "bf8ba085",
   "metadata": {},
   "outputs": [],
   "source": [
    "import torch\n",
    "import torchvision.models as models"
   ]
  },
  {
   "cell_type": "markdown",
   "id": "43843b1b",
   "metadata": {},
   "source": [
    "## Saving and Loading Model Weights\n",
    "\n",
    "PyTorch model stores the learned parameters in an internal state dictionary `state_dict`. These can be persisted with `torch.save()` method."
   ]
  },
  {
   "cell_type": "code",
   "execution_count": 2,
   "id": "1b263c2c",
   "metadata": {},
   "outputs": [
    {
     "name": "stderr",
     "output_type": "stream",
     "text": [
      "Downloading: \"https://download.pytorch.org/models/vgg16-397923af.pth\" to /Users/mukilankrishnakumar/.cache/torch/hub/checkpoints/vgg16-397923af.pth\n",
      "100%|████████████████████████████████████████| 528M/528M [01:58<00:00, 4.69MB/s]\n"
     ]
    }
   ],
   "source": [
    "model = models.vgg16(weights = \"IMAGENET1K_V1\")\n",
    "torch.save(model.state_dict(), 'model_weights.pth')"
   ]
  },
  {
   "cell_type": "code",
   "execution_count": null,
   "id": "ee07fcf0",
   "metadata": {},
   "outputs": [],
   "source": [
    "# To Load the model, instantiate\n",
    "model = models.vgg16()\n",
    "model.load_state_dict(torch.load(\"model_weights.pth\"))\n",
    "model.eval()"
   ]
  },
  {
   "cell_type": "code",
   "execution_count": null,
   "id": "6fab89ea",
   "metadata": {},
   "outputs": [],
   "source": [
    "## Saving and Loading Models with Shape\n",
    "There is a way to store a model's structure along with the weights - pass the model to the `sa"
   ]
  }
 ],
 "metadata": {
  "kernelspec": {
   "display_name": "Python 3 (ipykernel)",
   "language": "python",
   "name": "python3"
  },
  "language_info": {
   "codemirror_mode": {
    "name": "ipython",
    "version": 3
   },
   "file_extension": ".py",
   "mimetype": "text/x-python",
   "name": "python",
   "nbconvert_exporter": "python",
   "pygments_lexer": "ipython3",
   "version": "3.11.3"
  }
 },
 "nbformat": 4,
 "nbformat_minor": 5
}
