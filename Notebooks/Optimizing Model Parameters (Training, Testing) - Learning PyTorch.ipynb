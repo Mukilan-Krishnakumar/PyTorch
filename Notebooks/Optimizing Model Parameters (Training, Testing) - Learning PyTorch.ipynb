{
 "cells": [
  {
   "cell_type": "markdown",
   "id": "9391a84f",
   "metadata": {},
   "source": [
    "# Optimizing Model Parameters\n",
    "\n",
    "We are going to combine, everything we have done till now. We have loaded the Data and have defined the Neural Network. We also saw how to do `partial differentiation` with parameters. \n",
    "\n",
    "We are going to train the model. \n",
    "\n",
    "> Training model is an iterative process, which involves model making a guess about the output, calcualtes the error in the guess (loss), collects derivatives of error with respect to its parameters and optimizes the parameters with gradient descent."
   ]
  },
  {
   "cell_type": "code",
   "execution_count": 2,
   "id": "0f32091c",
   "metadata": {},
   "outputs": [],
   "source": [
    "# Importing Libraries\n",
    "import torch\n",
    "from torch import nn\n",
    "from torch.utils.data import DataLoader\n",
    "from torchvision import datasets\n",
    "from torchvision.transforms import Compose, Resize, ToTensor"
   ]
  },
  {
   "cell_type": "code",
   "execution_count": 3,
   "id": "cfdd4abf",
   "metadata": {},
   "outputs": [],
   "source": [
    "transformations = Compose([\n",
    "    Resize([28,28]),\n",
    "    ToTensor()\n",
    "])"
   ]
  },
  {
   "cell_type": "code",
   "execution_count": 4,
   "id": "894d67c3",
   "metadata": {},
   "outputs": [],
   "source": [
    "training_data = datasets.OxfordIIITPet(\n",
    "    root=\"data\",\n",
    "    split=\"trainval\",\n",
    "    download=True,\n",
    "    transform= transformations\n",
    "    )\n",
    "\n",
    "testing_data = datasets.OxfordIIITPet(\n",
    "    root = \"data\",\n",
    "    split = \"test\",\n",
    "    download = True,\n",
    "    transform = transformations\n",
    ")"
   ]
  },
  {
   "cell_type": "code",
   "execution_count": 5,
   "id": "7e62369e",
   "metadata": {},
   "outputs": [],
   "source": [
    "train_dataloader = DataLoader(training_data, batch_size=64)\n",
    "test_dataloader = DataLoader(testing_data, batch_size=64)"
   ]
  },
  {
   "cell_type": "code",
   "execution_count": 6,
   "id": "489fc9a1",
   "metadata": {},
   "outputs": [],
   "source": [
    "class PetNeuralNetwork(nn.Module):\n",
    "    def __init__(self):\n",
    "        super().__init__()\n",
    "        self.flatten = nn.Flatten()\n",
    "        self.linear_stack = nn.Sequential(\n",
    "            nn.Linear(28*28, 512),\n",
    "            nn.ReLU(),\n",
    "            nn.Linear(512,512),\n",
    "            nn.ReLU(),\n",
    "            nn.Linear(512, 37),\n",
    "        )\n",
    "    def forward(self, x):\n",
    "        x = self.flatten(x)\n",
    "        logits = self.linear_stack(x)\n",
    "        return logits"
   ]
  },
  {
   "cell_type": "code",
   "execution_count": 7,
   "id": "5ce22b36",
   "metadata": {},
   "outputs": [],
   "source": [
    "model = PetNeuralNetwork()"
   ]
  },
  {
   "cell_type": "markdown",
   "id": "f933412e",
   "metadata": {},
   "source": [
    "## Hyperparameter Tuning\n",
    "> Hyperparameters are adjustable parameters, can be tuned to increase model performance, training and convergance rates.\n",
    "\n",
    "Hyperparameters for Training:\n",
    "1. Number of Epochs - Iteration times\n",
    "2. Batch Size - Selection of input data before updation of parameters is based on `batch_size`\n",
    "3. Learning Rate - How much to update model parameters at each epoch/batch."
   ]
  },
  {
   "cell_type": "code",
   "execution_count": 8,
   "id": "ce116841",
   "metadata": {},
   "outputs": [],
   "source": [
    "learning_rate = 1e-3\n",
    "batch_size = 64\n",
    "epochs = 5"
   ]
  },
  {
   "cell_type": "code",
   "execution_count": null,
   "id": "c2e58a6a",
   "metadata": {},
   "outputs": [],
   "source": []
  }
 ],
 "metadata": {
  "kernelspec": {
   "display_name": "Python 3 (ipykernel)",
   "language": "python",
   "name": "python3"
  },
  "language_info": {
   "codemirror_mode": {
    "name": "ipython",
    "version": 3
   },
   "file_extension": ".py",
   "mimetype": "text/x-python",
   "name": "python",
   "nbconvert_exporter": "python",
   "pygments_lexer": "ipython3",
   "version": "3.11.3"
  }
 },
 "nbformat": 4,
 "nbformat_minor": 5
}
