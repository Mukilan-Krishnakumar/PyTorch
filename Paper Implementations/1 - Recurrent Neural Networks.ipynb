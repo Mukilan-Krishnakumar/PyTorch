{
 "cells": [
  {
   "cell_type": "markdown",
   "id": "ff2638e3",
   "metadata": {},
   "source": [
    "# Building a Recurrent Neural Network from Scratch\n",
    "\n",
    "We will be using the Ham Spam Dataset to train a neural network which can classify messages as spam or ham. \n",
    "\n",
    "The Gameplan:\n",
    "1. Data Preprocessing\n",
    "2. Vocabulary\n",
    "3. Dataset and DataLoader\n",
    "4. Recurrent Neural Networks from Scratch\n",
    "5. Training Loop\n",
    "6. Testing Loop"
   ]
  },
  {
   "cell_type": "code",
   "execution_count": 1,
   "id": "084e393d",
   "metadata": {},
   "outputs": [],
   "source": [
    "# import statements\n",
    "import torch\n",
    "import matplotlib.pyplot as plt\n",
    "import torch.nn as nn\n",
    "import torch.optim as optim\n",
    "from torch.utils.data import DataLoader, Dataset\n",
    "import numpy as np\n",
    "import pandas as pd\n",
    "import re\n",
    "import wandb"
   ]
  },
  {
   "cell_type": "code",
   "execution_count": 2,
   "id": "fc8eaee9",
   "metadata": {},
   "outputs": [
    {
     "name": "stderr",
     "output_type": "stream",
     "text": [
      "\u001b[34m\u001b[1mwandb\u001b[0m: Currently logged in as: \u001b[33mmukilan\u001b[0m. Use \u001b[1m`wandb login --relogin`\u001b[0m to force relogin\n"
     ]
    },
    {
     "data": {
      "text/html": [
       "Tracking run with wandb version 0.15.8"
      ],
      "text/plain": [
       "<IPython.core.display.HTML object>"
      ]
     },
     "metadata": {},
     "output_type": "display_data"
    },
    {
     "data": {
      "text/html": [
       "Run data is saved locally in <code>/Users/mukilankrishnakumar/Desktop/Mukilan/PyTorch/wandb/run-20230827_132954-l0jdmxet</code>"
      ],
      "text/plain": [
       "<IPython.core.display.HTML object>"
      ]
     },
     "metadata": {},
     "output_type": "display_data"
    },
    {
     "data": {
      "text/html": [
       "Syncing run <strong><a href='https://wandb.ai/mukilan/PyTorch-Paper-Implementations/runs/l0jdmxet' target=\"_blank\">autumn-microwave-5</a></strong> to <a href='https://wandb.ai/mukilan/PyTorch-Paper-Implementations' target=\"_blank\">Weights & Biases</a> (<a href='https://wandb.me/run' target=\"_blank\">docs</a>)<br/>"
      ],
      "text/plain": [
       "<IPython.core.display.HTML object>"
      ]
     },
     "metadata": {},
     "output_type": "display_data"
    },
    {
     "data": {
      "text/html": [
       " View project at <a href='https://wandb.ai/mukilan/PyTorch-Paper-Implementations' target=\"_blank\">https://wandb.ai/mukilan/PyTorch-Paper-Implementations</a>"
      ],
      "text/plain": [
       "<IPython.core.display.HTML object>"
      ]
     },
     "metadata": {},
     "output_type": "display_data"
    },
    {
     "data": {
      "text/html": [
       " View run at <a href='https://wandb.ai/mukilan/PyTorch-Paper-Implementations/runs/l0jdmxet' target=\"_blank\">https://wandb.ai/mukilan/PyTorch-Paper-Implementations/runs/l0jdmxet</a>"
      ],
      "text/plain": [
       "<IPython.core.display.HTML object>"
      ]
     },
     "metadata": {},
     "output_type": "display_data"
    },
    {
     "data": {
      "text/html": [
       "<button onClick=\"this.nextSibling.style.display='block';this.style.display='none';\">Display W&B run</button><iframe src='https://wandb.ai/mukilan/PyTorch-Paper-Implementations/runs/l0jdmxet?jupyter=true' style='border:none;width:100%;height:420px;display:none;'></iframe>"
      ],
      "text/plain": [
       "<wandb.sdk.wandb_run.Run at 0x1560d4d00>"
      ]
     },
     "execution_count": 2,
     "metadata": {},
     "output_type": "execute_result"
    }
   ],
   "source": [
    "wandb.init(project=\"PyTorch-Paper-Implementations\")"
   ]
  },
  {
   "cell_type": "code",
   "execution_count": 3,
   "id": "870f20d1",
   "metadata": {},
   "outputs": [],
   "source": [
    "config = {\"learning_rate\": 1e-3,\n",
    "          \"batch_size\": 64,\n",
    "          \"epochs\": 40}\n",
    "\n",
    "wandb.config = config"
   ]
  },
  {
   "cell_type": "code",
   "execution_count": 4,
   "id": "6ae6797c",
   "metadata": {},
   "outputs": [],
   "source": [
    "device = \"mps\""
   ]
  },
  {
   "cell_type": "markdown",
   "id": "79f954f5",
   "metadata": {},
   "source": [
    "## Data Preprocessing"
   ]
  },
  {
   "cell_type": "code",
   "execution_count": 5,
   "id": "c047e148",
   "metadata": {},
   "outputs": [],
   "source": [
    "# df = pd.read_csv(\"hamspam.csv\")\n",
    "df = pd.read_csv(\"hamspam.csv\", index_col = [\"Unnamed: 0\"])"
   ]
  },
  {
   "cell_type": "code",
   "execution_count": 6,
   "id": "311da1c6",
   "metadata": {},
   "outputs": [
    {
     "data": {
      "text/html": [
       "<div>\n",
       "<style scoped>\n",
       "    .dataframe tbody tr th:only-of-type {\n",
       "        vertical-align: middle;\n",
       "    }\n",
       "\n",
       "    .dataframe tbody tr th {\n",
       "        vertical-align: top;\n",
       "    }\n",
       "\n",
       "    .dataframe thead th {\n",
       "        text-align: right;\n",
       "    }\n",
       "</style>\n",
       "<table border=\"1\" class=\"dataframe\">\n",
       "  <thead>\n",
       "    <tr style=\"text-align: right;\">\n",
       "      <th></th>\n",
       "      <th>v1</th>\n",
       "      <th>v2</th>\n",
       "      <th>split</th>\n",
       "    </tr>\n",
       "  </thead>\n",
       "  <tbody>\n",
       "    <tr>\n",
       "      <th>0</th>\n",
       "      <td>ham</td>\n",
       "      <td>Go until jurong point, crazy.. Available only ...</td>\n",
       "      <td>train</td>\n",
       "    </tr>\n",
       "    <tr>\n",
       "      <th>1</th>\n",
       "      <td>ham</td>\n",
       "      <td>Ok lar... Joking wif u oni...</td>\n",
       "      <td>train</td>\n",
       "    </tr>\n",
       "    <tr>\n",
       "      <th>2</th>\n",
       "      <td>spam</td>\n",
       "      <td>Free entry in 2 a wkly comp to win FA Cup fina...</td>\n",
       "      <td>train</td>\n",
       "    </tr>\n",
       "    <tr>\n",
       "      <th>3</th>\n",
       "      <td>ham</td>\n",
       "      <td>U dun say so early hor... U c already then say...</td>\n",
       "      <td>train</td>\n",
       "    </tr>\n",
       "    <tr>\n",
       "      <th>4</th>\n",
       "      <td>ham</td>\n",
       "      <td>Nah I don't think he goes to usf, he lives aro...</td>\n",
       "      <td>train</td>\n",
       "    </tr>\n",
       "  </tbody>\n",
       "</table>\n",
       "</div>"
      ],
      "text/plain": [
       "     v1                                                 v2  split\n",
       "0   ham  Go until jurong point, crazy.. Available only ...  train\n",
       "1   ham                      Ok lar... Joking wif u oni...  train\n",
       "2  spam  Free entry in 2 a wkly comp to win FA Cup fina...  train\n",
       "3   ham  U dun say so early hor... U c already then say...  train\n",
       "4   ham  Nah I don't think he goes to usf, he lives aro...  train"
      ]
     },
     "execution_count": 6,
     "metadata": {},
     "output_type": "execute_result"
    }
   ],
   "source": [
    "df.head()"
   ]
  },
  {
   "cell_type": "code",
   "execution_count": 7,
   "id": "bdcb542c",
   "metadata": {},
   "outputs": [],
   "source": [
    "# df.columns = [\"index\", \"target\", \"message\", \"split\"]\n",
    "df.columns = [\"target\", \"message\", \"split\"]"
   ]
  },
  {
   "cell_type": "code",
   "execution_count": 8,
   "id": "254e06ca",
   "metadata": {},
   "outputs": [],
   "source": [
    "conversion_dict = {\"ham\": 0, \"spam\": 1}\n",
    "def conversion_fn(target_val):\n",
    "    return conversion_dict[target_val]"
   ]
  },
  {
   "cell_type": "code",
   "execution_count": 9,
   "id": "43fc65aa",
   "metadata": {},
   "outputs": [],
   "source": [
    "df[\"target\"] = df[\"target\"].map(lambda x: conversion_fn(x))"
   ]
  },
  {
   "cell_type": "code",
   "execution_count": 10,
   "id": "0830436a",
   "metadata": {},
   "outputs": [
    {
     "data": {
      "text/html": [
       "<div>\n",
       "<style scoped>\n",
       "    .dataframe tbody tr th:only-of-type {\n",
       "        vertical-align: middle;\n",
       "    }\n",
       "\n",
       "    .dataframe tbody tr th {\n",
       "        vertical-align: top;\n",
       "    }\n",
       "\n",
       "    .dataframe thead th {\n",
       "        text-align: right;\n",
       "    }\n",
       "</style>\n",
       "<table border=\"1\" class=\"dataframe\">\n",
       "  <thead>\n",
       "    <tr style=\"text-align: right;\">\n",
       "      <th></th>\n",
       "      <th>target</th>\n",
       "      <th>message</th>\n",
       "      <th>split</th>\n",
       "    </tr>\n",
       "  </thead>\n",
       "  <tbody>\n",
       "    <tr>\n",
       "      <th>0</th>\n",
       "      <td>0</td>\n",
       "      <td>Go until jurong point, crazy.. Available only ...</td>\n",
       "      <td>train</td>\n",
       "    </tr>\n",
       "    <tr>\n",
       "      <th>1</th>\n",
       "      <td>0</td>\n",
       "      <td>Ok lar... Joking wif u oni...</td>\n",
       "      <td>train</td>\n",
       "    </tr>\n",
       "    <tr>\n",
       "      <th>2</th>\n",
       "      <td>1</td>\n",
       "      <td>Free entry in 2 a wkly comp to win FA Cup fina...</td>\n",
       "      <td>train</td>\n",
       "    </tr>\n",
       "    <tr>\n",
       "      <th>3</th>\n",
       "      <td>0</td>\n",
       "      <td>U dun say so early hor... U c already then say...</td>\n",
       "      <td>train</td>\n",
       "    </tr>\n",
       "    <tr>\n",
       "      <th>4</th>\n",
       "      <td>0</td>\n",
       "      <td>Nah I don't think he goes to usf, he lives aro...</td>\n",
       "      <td>train</td>\n",
       "    </tr>\n",
       "  </tbody>\n",
       "</table>\n",
       "</div>"
      ],
      "text/plain": [
       "   target                                            message  split\n",
       "0       0  Go until jurong point, crazy.. Available only ...  train\n",
       "1       0                      Ok lar... Joking wif u oni...  train\n",
       "2       1  Free entry in 2 a wkly comp to win FA Cup fina...  train\n",
       "3       0  U dun say so early hor... U c already then say...  train\n",
       "4       0  Nah I don't think he goes to usf, he lives aro...  train"
      ]
     },
     "execution_count": 10,
     "metadata": {},
     "output_type": "execute_result"
    }
   ],
   "source": [
    "df.head()"
   ]
  },
  {
   "cell_type": "code",
   "execution_count": 11,
   "id": "76580297",
   "metadata": {},
   "outputs": [
    {
     "data": {
      "image/png": "[encoded data removed]",
      "text/plain": [
       "<Figure size 432x288 with 1 Axes>"
      ]
     },
     "metadata": {},
     "output_type": "display_data"
    }
   ],
   "source": [
    "plt.pie(df[\"target\"].value_counts(), labels= df[\"target\"].unique().tolist(), autopct= '%1.1f%%')\n",
    "plt.show()"
   ]
  },
  {
   "cell_type": "code",
   "execution_count": 12,
   "id": "58beca50",
   "metadata": {},
   "outputs": [],
   "source": [
    "n = df[\"target\"].value_counts().min()"
   ]
  },
  {
   "cell_type": "code",
   "execution_count": 13,
   "id": "a3adf171",
   "metadata": {},
   "outputs": [],
   "source": [
    "df =  df.groupby(\"target\").head(n)"
   ]
  },
  {
   "cell_type": "code",
   "execution_count": 14,
   "id": "cae28bdb",
   "metadata": {
    "scrolled": true
   },
   "outputs": [
    {
     "data": {
      "image/png": "[encoded data removed]",
      "text/plain": [
       "<Figure size 432x288 with 1 Axes>"
      ]
     },
     "metadata": {},
     "output_type": "display_data"
    }
   ],
   "source": [
    "plt.pie(df[\"target\"].value_counts(), labels= df[\"target\"].unique().tolist(), autopct= '%1.1f%%')\n",
    "plt.show()"
   ]
  },
  {
   "cell_type": "code",
   "execution_count": 15,
   "id": "6532660f",
   "metadata": {},
   "outputs": [
    {
     "data": {
      "text/html": [
       "<div>\n",
       "<style scoped>\n",
       "    .dataframe tbody tr th:only-of-type {\n",
       "        vertical-align: middle;\n",
       "    }\n",
       "\n",
       "    .dataframe tbody tr th {\n",
       "        vertical-align: top;\n",
       "    }\n",
       "\n",
       "    .dataframe thead th {\n",
       "        text-align: right;\n",
       "    }\n",
       "</style>\n",
       "<table border=\"1\" class=\"dataframe\">\n",
       "  <thead>\n",
       "    <tr style=\"text-align: right;\">\n",
       "      <th></th>\n",
       "      <th>target</th>\n",
       "      <th>message</th>\n",
       "      <th>split</th>\n",
       "    </tr>\n",
       "  </thead>\n",
       "  <tbody>\n",
       "    <tr>\n",
       "      <th>0</th>\n",
       "      <td>0</td>\n",
       "      <td>Go until jurong point, crazy.. Available only ...</td>\n",
       "      <td>train</td>\n",
       "    </tr>\n",
       "    <tr>\n",
       "      <th>1</th>\n",
       "      <td>0</td>\n",
       "      <td>Ok lar... Joking wif u oni...</td>\n",
       "      <td>train</td>\n",
       "    </tr>\n",
       "    <tr>\n",
       "      <th>2</th>\n",
       "      <td>1</td>\n",
       "      <td>Free entry in 2 a wkly comp to win FA Cup fina...</td>\n",
       "      <td>train</td>\n",
       "    </tr>\n",
       "    <tr>\n",
       "      <th>3</th>\n",
       "      <td>0</td>\n",
       "      <td>U dun say so early hor... U c already then say...</td>\n",
       "      <td>train</td>\n",
       "    </tr>\n",
       "    <tr>\n",
       "      <th>4</th>\n",
       "      <td>0</td>\n",
       "      <td>Nah I don't think he goes to usf, he lives aro...</td>\n",
       "      <td>train</td>\n",
       "    </tr>\n",
       "  </tbody>\n",
       "</table>\n",
       "</div>"
      ],
      "text/plain": [
       "   target                                            message  split\n",
       "0       0  Go until jurong point, crazy.. Available only ...  train\n",
       "1       0                      Ok lar... Joking wif u oni...  train\n",
       "2       1  Free entry in 2 a wkly comp to win FA Cup fina...  train\n",
       "3       0  U dun say so early hor... U c already then say...  train\n",
       "4       0  Nah I don't think he goes to usf, he lives aro...  train"
      ]
     },
     "execution_count": 15,
     "metadata": {},
     "output_type": "execute_result"
    }
   ],
   "source": [
    "df.head()"
   ]
  },
  {
   "cell_type": "code",
   "execution_count": 16,
   "id": "af4b4643",
   "metadata": {},
   "outputs": [],
   "source": [
    "#df = df.set_index(\"index\")\n",
    "df.to_csv(\"hamspam_processed.csv\", index= False)"
   ]
  },
  {
   "cell_type": "code",
   "execution_count": 17,
   "id": "9d9c7693",
   "metadata": {},
   "outputs": [
    {
     "data": {
      "text/html": [
       "<div>\n",
       "<style scoped>\n",
       "    .dataframe tbody tr th:only-of-type {\n",
       "        vertical-align: middle;\n",
       "    }\n",
       "\n",
       "    .dataframe tbody tr th {\n",
       "        vertical-align: top;\n",
       "    }\n",
       "\n",
       "    .dataframe thead th {\n",
       "        text-align: right;\n",
       "    }\n",
       "</style>\n",
       "<table border=\"1\" class=\"dataframe\">\n",
       "  <thead>\n",
       "    <tr style=\"text-align: right;\">\n",
       "      <th></th>\n",
       "      <th>target</th>\n",
       "      <th>message</th>\n",
       "      <th>split</th>\n",
       "    </tr>\n",
       "  </thead>\n",
       "  <tbody>\n",
       "    <tr>\n",
       "      <th>0</th>\n",
       "      <td>0</td>\n",
       "      <td>Go until jurong point, crazy.. Available only ...</td>\n",
       "      <td>train</td>\n",
       "    </tr>\n",
       "    <tr>\n",
       "      <th>1</th>\n",
       "      <td>0</td>\n",
       "      <td>Ok lar... Joking wif u oni...</td>\n",
       "      <td>train</td>\n",
       "    </tr>\n",
       "    <tr>\n",
       "      <th>2</th>\n",
       "      <td>1</td>\n",
       "      <td>Free entry in 2 a wkly comp to win FA Cup fina...</td>\n",
       "      <td>train</td>\n",
       "    </tr>\n",
       "    <tr>\n",
       "      <th>3</th>\n",
       "      <td>0</td>\n",
       "      <td>U dun say so early hor... U c already then say...</td>\n",
       "      <td>train</td>\n",
       "    </tr>\n",
       "    <tr>\n",
       "      <th>4</th>\n",
       "      <td>0</td>\n",
       "      <td>Nah I don't think he goes to usf, he lives aro...</td>\n",
       "      <td>train</td>\n",
       "    </tr>\n",
       "  </tbody>\n",
       "</table>\n",
       "</div>"
      ],
      "text/plain": [
       "   target                                            message  split\n",
       "0       0  Go until jurong point, crazy.. Available only ...  train\n",
       "1       0                      Ok lar... Joking wif u oni...  train\n",
       "2       1  Free entry in 2 a wkly comp to win FA Cup fina...  train\n",
       "3       0  U dun say so early hor... U c already then say...  train\n",
       "4       0  Nah I don't think he goes to usf, he lives aro...  train"
      ]
     },
     "execution_count": 17,
     "metadata": {},
     "output_type": "execute_result"
    }
   ],
   "source": [
    "df = pd.read_csv(\"hamspam_processed.csv\")\n",
    "df.head()"
   ]
  },
  {
   "cell_type": "code",
   "execution_count": 18,
   "id": "0ccf0c64",
   "metadata": {},
   "outputs": [
    {
     "name": "stdout",
     "output_type": "stream",
     "text": [
      "384\n"
     ]
    }
   ],
   "source": [
    "length = df[\"message\"].map(lambda x: len(x))\n",
    "print(max(length))"
   ]
  },
  {
   "cell_type": "markdown",
   "id": "10a1c2f3",
   "metadata": {},
   "source": [
    "## Vocabulary"
   ]
  },
  {
   "cell_type": "code",
   "execution_count": 19,
   "id": "8f4b6683",
   "metadata": {},
   "outputs": [],
   "source": [
    "class Vocabulary:\n",
    "    def __init__(self, messages):\n",
    "        self.token_to_idx = {}\n",
    "        self.idx_to_token = {}\n",
    "        self.messages = messages\n",
    "        self.add_token(\"<UNK>\")\n",
    "        self.special_char = re.compile(r'[;\\\\/,!.:*?\\\"<>|&\\']')\n",
    "        for message in messages:\n",
    "            for word in message.split(\" \"):\n",
    "                word = re.sub(self.special_char, \" \", word)\n",
    "                word = word.lower()\n",
    "                self.add_token(word)\n",
    "        \n",
    "    def add_token(self,token):\n",
    "        if token in self.token_to_idx:\n",
    "            index = self.token_to_idx[token]\n",
    "        else:\n",
    "            index = len(self.token_to_idx)\n",
    "            self.token_to_idx[token] = index\n",
    "            self.idx_to_token[index] = token\n",
    "            \n",
    "    def vectorize(self, message):\n",
    "        one_hot = torch.zeros(100,1, len(self.token_to_idx))\n",
    "        for num, word in enumerate(message.split(\" \")):\n",
    "            word = re.sub(self.special_char, \" \", word)\n",
    "            word = word.lower()\n",
    "            if num >= 100:\n",
    "                break\n",
    "            elif word in self.token_to_idx:\n",
    "                one_hot[num][0][self.token_to_idx[word]] = 1\n",
    "            else:\n",
    "                word = \"<UNK>\"\n",
    "                one_hot[num][0][self.token_to_idx[word]] = 1\n",
    "        return one_hot\n",
    "    \n",
    "    def len_token_idx(self):\n",
    "        return len(self.token_to_idx)\n",
    "    "
   ]
  },
  {
   "cell_type": "markdown",
   "id": "95b3f52b",
   "metadata": {},
   "source": [
    "## Dataset and DataLoader"
   ]
  },
  {
   "cell_type": "code",
   "execution_count": 20,
   "id": "ad32ea16",
   "metadata": {},
   "outputs": [],
   "source": [
    "class SpamDataset(Dataset):\n",
    "    def __init__(self, df, messages_col, target_col, transform = None):\n",
    "        self.df = df\n",
    "        self.transform = transform\n",
    "        \n",
    "        self.messages = self.df[messages_col]\n",
    "        self.target = self.df[target_col]\n",
    "        \n",
    "        self.vocab = Vocabulary(self.messages)\n",
    "        \n",
    "    def __len__(self):\n",
    "        return len(self.df)\n",
    "    \n",
    "    def __getitem__(self, index):\n",
    "        message = self.messages[index]\n",
    "        target = self.target[index]\n",
    "        \n",
    "        if self.transform is not None:\n",
    "            message = self.transform(message)\n",
    "            \n",
    "        vectorized_message = torch.tensor(self.vocab.vectorize(message))\n",
    "        vectorized_target = torch.tensor(target)\n",
    "        \n",
    "        return vectorized_message, vectorized_target\n",
    "    \n",
    "    def len_token_idx(self):\n",
    "        return self.vocab.len_token_idx()"
   ]
  },
  {
   "cell_type": "code",
   "execution_count": 21,
   "id": "9f9282f8",
   "metadata": {},
   "outputs": [],
   "source": [
    "train_dataset = SpamDataset(df, \"message\", \"target\")\n",
    "train_dataloader = DataLoader(train_dataset, batch_size= config[\"batch_size\"], shuffle=True)"
   ]
  },
  {
   "cell_type": "markdown",
   "id": "8cfadedd",
   "metadata": {},
   "source": [
    "## Recurrent Neural Networks from Scratch"
   ]
  },
  {
   "cell_type": "code",
   "execution_count": 22,
   "id": "9e8db245",
   "metadata": {},
   "outputs": [],
   "source": [
    "class RNN(nn.Module):\n",
    "    def __init__(self, input_size, hidden_size, output_size):\n",
    "        super(RNN, self).__init__()\n",
    "        self.hidden_size = hidden_size\n",
    "        self.i2h = nn.Linear(input_size + hidden_size, hidden_size)\n",
    "        self.h2o = nn.Linear(hidden_size ,output_size)\n",
    "        self.softmax = nn.LogSoftmax(dim = 0)\n",
    "        \n",
    "    def forward(self, input_message, hidden):\n",
    "        combined = torch.cat((input_message, hidden), 0)\n",
    "        hidden = self.i2h(combined)\n",
    "        output = self.h2o(hidden)\n",
    "        output = self.softmax(output)\n",
    "        \n",
    "        return output, hidden\n",
    "    \n",
    "    def initHidden(self):\n",
    "        return torch.zeros(self.hidden_size)"
   ]
  },
  {
   "cell_type": "code",
   "execution_count": 23,
   "id": "1316e128",
   "metadata": {},
   "outputs": [
    {
     "name": "stdout",
     "output_type": "stream",
     "text": [
      "RNN(\n",
      "  (i2h): Linear(in_features=11720, out_features=5860, bias=True)\n",
      "  (h2o): Linear(in_features=5860, out_features=1, bias=True)\n",
      "  (softmax): LogSoftmax(dim=0)\n",
      ")\n"
     ]
    },
    {
     "data": {
      "text/plain": [
       "[]"
      ]
     },
     "execution_count": 23,
     "metadata": {},
     "output_type": "execute_result"
    }
   ],
   "source": [
    "input_size = train_dataset.len_token_idx()\n",
    "hidden_size = train_dataset.len_token_idx()\n",
    "output_size = 1\n",
    "\n",
    "model = RNN(input_size, hidden_size, output_size).to(device)\n",
    "print(model)\n",
    "\n",
    "wandb.watch(model)"
   ]
  },
  {
   "cell_type": "code",
   "execution_count": 24,
   "id": "031a8062",
   "metadata": {},
   "outputs": [],
   "source": [
    "loss_fn = nn.BCELoss()"
   ]
  },
  {
   "cell_type": "code",
   "execution_count": 25,
   "id": "f3161182",
   "metadata": {},
   "outputs": [],
   "source": [
    "optimizer = torch.optim.SGD(model.parameters(), lr=config[\"learning_rate\"])"
   ]
  },
  {
   "cell_type": "markdown",
   "id": "30ea8681",
   "metadata": {},
   "source": [
    "## Training Loop"
   ]
  },
  {
   "cell_type": "code",
   "execution_count": 26,
   "id": "b7c22d9e",
   "metadata": {},
   "outputs": [],
   "source": [
    "def train_loop(dataloader, model, loss_fn, optimizer):\n",
    "    size = len(dataloader.dataset)\n",
    "    # Set the model to training mode - important for batch normalization and dropout layers\n",
    "    # Unnecessary in this situation but added for best practices\n",
    "    model.train()\n",
    "    for batch, (X, y) in enumerate(dataloader):\n",
    "        X = X.to(device)\n",
    "        y = y.float()\n",
    "        y = y.to(device)\n",
    "        pred = torch.empty((0), dtype = torch.float32).to(device)\n",
    "        # Compute prediction and loss\n",
    "        for sentence in X:\n",
    "            hidden = model.initHidden().to(device)\n",
    "            for word_vector in sentence[1]:\n",
    "                output, hidden = model(word_vector, hidden)\n",
    "            pred = torch.cat((pred, output), 0)\n",
    "        loss = loss_fn(pred, y)\n",
    "\n",
    "        # Backpropagation\n",
    "        loss.backward()\n",
    "        optimizer.step()\n",
    "        optimizer.zero_grad()\n",
    "\n",
    "        if batch % 1 == 0:\n",
    "            loss, current = loss.item(), (batch + 1) * len(X)\n",
    "            wandb.log({\"loss\" : loss})"
   ]
  },
  {
   "cell_type": "code",
   "execution_count": 27,
   "id": "cda2926d",
   "metadata": {
    "scrolled": true
   },
   "outputs": [
    {
     "name": "stdout",
     "output_type": "stream",
     "text": [
      "Epoch 1\n",
      "-------------------------------\n"
     ]
    },
    {
     "name": "stderr",
     "output_type": "stream",
     "text": [
      "/var/folders/qp/h29sqr1j4qlg8r6r10m9q9xh0000gn/T/ipykernel_6593/28697797.py:21: UserWarning: To copy construct from a tensor, it is recommended to use sourceTensor.clone().detach() or sourceTensor.clone().detach().requires_grad_(True), rather than torch.tensor(sourceTensor).\n",
      "  vectorized_message = torch.tensor(self.vocab.vectorize(message))\n"
     ]
    },
    {
     "name": "stdout",
     "output_type": "stream",
     "text": [
      "Epoch 2\n",
      "-------------------------------\n",
      "Epoch 3\n",
      "-------------------------------\n",
      "Epoch 4\n",
      "-------------------------------\n",
      "Epoch 5\n",
      "-------------------------------\n",
      "Epoch 6\n",
      "-------------------------------\n",
      "Epoch 7\n",
      "-------------------------------\n",
      "Epoch 8\n",
      "-------------------------------\n",
      "Epoch 9\n",
      "-------------------------------\n",
      "Epoch 10\n",
      "-------------------------------\n",
      "Epoch 11\n",
      "-------------------------------\n",
      "Epoch 12\n",
      "-------------------------------\n",
      "Epoch 13\n",
      "-------------------------------\n",
      "Epoch 14\n",
      "-------------------------------\n",
      "Epoch 15\n",
      "-------------------------------\n",
      "Epoch 16\n",
      "-------------------------------\n",
      "Epoch 17\n",
      "-------------------------------\n",
      "Epoch 18\n",
      "-------------------------------\n",
      "Epoch 19\n",
      "-------------------------------\n",
      "Epoch 20\n",
      "-------------------------------\n",
      "Epoch 21\n",
      "-------------------------------\n",
      "Epoch 22\n",
      "-------------------------------\n",
      "Epoch 23\n",
      "-------------------------------\n",
      "Epoch 24\n",
      "-------------------------------\n",
      "Epoch 25\n",
      "-------------------------------\n",
      "Epoch 26\n",
      "-------------------------------\n",
      "Epoch 27\n",
      "-------------------------------\n",
      "Epoch 28\n",
      "-------------------------------\n",
      "Epoch 29\n",
      "-------------------------------\n",
      "Epoch 30\n",
      "-------------------------------\n",
      "Epoch 31\n",
      "-------------------------------\n",
      "Epoch 32\n",
      "-------------------------------\n",
      "Epoch 33\n",
      "-------------------------------\n",
      "Epoch 34\n",
      "-------------------------------\n",
      "Epoch 35\n",
      "-------------------------------\n",
      "Epoch 36\n",
      "-------------------------------\n",
      "Epoch 37\n",
      "-------------------------------\n",
      "Epoch 38\n",
      "-------------------------------\n",
      "Epoch 39\n",
      "-------------------------------\n",
      "Epoch 40\n",
      "-------------------------------\n"
     ]
    }
   ],
   "source": [
    "for t in range(config[\"epochs\"]):\n",
    "    print(f\"Epoch {t+1}\\n-------------------------------\")\n",
    "    train_loop(train_dataloader, model, loss_fn, optimizer)"
   ]
  },
  {
   "cell_type": "markdown",
   "id": "518276fb",
   "metadata": {},
   "source": [
    "## Testing"
   ]
  },
  {
   "cell_type": "code",
   "execution_count": 28,
   "id": "83d8703e",
   "metadata": {},
   "outputs": [],
   "source": [
    "def test_model(input_text):\n",
    "    vectorized_input = train_dataset.vocab.vectorize(input_text)\n",
    "    vectorized_input.to(\"cpu\")\n",
    "    model.to(\"cpu\")\n",
    "    hidden = model.initHidden().to(\"cpu\")\n",
    "    for word_vector in vectorized_input[1]:\n",
    "        word_vector.to(\"cpu\")\n",
    "        output, hidden = model(word_vector, hidden)\n",
    "    return output"
   ]
  },
  {
   "cell_type": "code",
   "execution_count": 29,
   "id": "b45f15e9",
   "metadata": {},
   "outputs": [
    {
     "name": "stdout",
     "output_type": "stream",
     "text": [
      "tensor([0.], grad_fn=<LogSoftmaxBackward0>)\n"
     ]
    }
   ],
   "source": [
    "input_text = \"Free entry in 2 a wkly comp to win FA Cup final tkts 21st May 2005. Text FA to 87121 to receive entry question(std txt rate)T&C's apply 08452810075over18's\"\n",
    "output = test_model(input_text)\n",
    "print(output)"
   ]
  }
 ],
 "metadata": {
  "kernelspec": {
   "display_name": "Python 3 (ipykernel)",
   "language": "python",
   "name": "python3"
  },
  "language_info": {
   "codemirror_mode": {
    "name": "ipython",
    "version": 3
   },
   "file_extension": ".py",
   "mimetype": "text/x-python",
   "name": "python",
   "nbconvert_exporter": "python",
   "pygments_lexer": "ipython3",
   "version": "3.8.17"
  }
 },
 "nbformat": 4,
 "nbformat_minor": 5
}
