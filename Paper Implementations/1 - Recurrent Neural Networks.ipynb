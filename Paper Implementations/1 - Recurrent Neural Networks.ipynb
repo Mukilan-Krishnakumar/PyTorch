{
 "cells": [
  {
   "cell_type": "markdown",
   "id": "46fde7e3",
   "metadata": {},
   "source": [
    "# Recurrent Neural Networks\n",
    "\n",
    "Welcome to the Paper implementation section. This is the first notebook, I will be implementing a simple RNN. It has been made much easier for us by the `nn.RNN` abstraction provided by PyTorch. We will be using that to create a simple `Spam Classifier`. \n",
    "\n",
    "The dataset for the following tutorial can be downloaded from Kaggle - [Link](https://www.kaggle.com/datasets/uciml/sms-spam-collection-dataset)\n",
    "\n",
    "Let's get started!"
   ]
  },
  {
   "cell_type": "code",
   "execution_count": 2,
   "id": "4c1d7267",
   "metadata": {},
   "outputs": [],
   "source": [
    "# Importing neccessary libraries\n",
    "import torch\n",
    "import torchvision.transforms as transforms\n",
    "import matplotlib.pyplot as plt\n",
    "import torch.nn as nn\n",
    "import torch.nn.functional as F\n",
    "import torch.optim as optim\n",
    "from torch.utils.data import DataLoader, Dataset"
   ]
  },
  {
   "cell_type": "code",
   "execution_count": 3,
   "id": "a374ed5c",
   "metadata": {},
   "outputs": [
    {
     "name": "stdout",
     "output_type": "stream",
     "text": [
      "mps\n"
     ]
    }
   ],
   "source": [
    "# Setting training device\n",
    "device = torch.device(\"mps\" if torch.backends.mps.is_available() else \"cpu\")\n",
    "print(device)"
   ]
  },
  {
   "cell_type": "markdown",
   "id": "3187137b",
   "metadata": {},
   "source": [
    "We don't have a predefined Dataset object for the Spam Classification Dataset. Before we get to that, we have to understand a few important concepts and implement them. One of these concepts, very critical for us, is tokenizer. It helps us in tokenizing the input, i.e converting the input to some numerical form, usually vectors in a vector space. "
   ]
  },
  {
   "cell_type": "markdown",
   "id": "355e219d",
   "metadata": {},
   "source": [
    "## Looking at the Data - EDA"
   ]
  },
  {
   "cell_type": "code",
   "execution_count": 1,
   "id": "79b76616",
   "metadata": {},
   "outputs": [],
   "source": [
    "import pandas as pd\n",
    "import numpy as np"
   ]
  },
  {
   "cell_type": "markdown",
   "id": "1b66fbbb",
   "metadata": {},
   "source": [
    "`ISO-8859-1` is a single byte encoding that can encode the first 256 Unicode characters, it has some latin letters, punctuations etc. It is widely used in Europe and USA, as it supports their language. "
   ]
  },
  {
   "cell_type": "code",
   "execution_count": 2,
   "id": "ee7a8d28",
   "metadata": {},
   "outputs": [
    {
     "data": {
      "text/html": [
       "<div>\n",
       "<style scoped>\n",
       "    .dataframe tbody tr th:only-of-type {\n",
       "        vertical-align: middle;\n",
       "    }\n",
       "\n",
       "    .dataframe tbody tr th {\n",
       "        vertical-align: top;\n",
       "    }\n",
       "\n",
       "    .dataframe thead th {\n",
       "        text-align: right;\n",
       "    }\n",
       "</style>\n",
       "<table border=\"1\" class=\"dataframe\">\n",
       "  <thead>\n",
       "    <tr style=\"text-align: right;\">\n",
       "      <th></th>\n",
       "      <th>v1</th>\n",
       "      <th>v2</th>\n",
       "      <th>Unnamed: 2</th>\n",
       "      <th>Unnamed: 3</th>\n",
       "      <th>Unnamed: 4</th>\n",
       "    </tr>\n",
       "  </thead>\n",
       "  <tbody>\n",
       "    <tr>\n",
       "      <th>0</th>\n",
       "      <td>ham</td>\n",
       "      <td>Go until jurong point, crazy.. Available only ...</td>\n",
       "      <td>NaN</td>\n",
       "      <td>NaN</td>\n",
       "      <td>NaN</td>\n",
       "    </tr>\n",
       "    <tr>\n",
       "      <th>1</th>\n",
       "      <td>ham</td>\n",
       "      <td>Ok lar... Joking wif u oni...</td>\n",
       "      <td>NaN</td>\n",
       "      <td>NaN</td>\n",
       "      <td>NaN</td>\n",
       "    </tr>\n",
       "    <tr>\n",
       "      <th>2</th>\n",
       "      <td>spam</td>\n",
       "      <td>Free entry in 2 a wkly comp to win FA Cup fina...</td>\n",
       "      <td>NaN</td>\n",
       "      <td>NaN</td>\n",
       "      <td>NaN</td>\n",
       "    </tr>\n",
       "    <tr>\n",
       "      <th>3</th>\n",
       "      <td>ham</td>\n",
       "      <td>U dun say so early hor... U c already then say...</td>\n",
       "      <td>NaN</td>\n",
       "      <td>NaN</td>\n",
       "      <td>NaN</td>\n",
       "    </tr>\n",
       "    <tr>\n",
       "      <th>4</th>\n",
       "      <td>ham</td>\n",
       "      <td>Nah I don't think he goes to usf, he lives aro...</td>\n",
       "      <td>NaN</td>\n",
       "      <td>NaN</td>\n",
       "      <td>NaN</td>\n",
       "    </tr>\n",
       "  </tbody>\n",
       "</table>\n",
       "</div>"
      ],
      "text/plain": [
       "     v1                                                 v2 Unnamed: 2  \\\n",
       "0   ham  Go until jurong point, crazy.. Available only ...        NaN   \n",
       "1   ham                      Ok lar... Joking wif u oni...        NaN   \n",
       "2  spam  Free entry in 2 a wkly comp to win FA Cup fina...        NaN   \n",
       "3   ham  U dun say so early hor... U c already then say...        NaN   \n",
       "4   ham  Nah I don't think he goes to usf, he lives aro...        NaN   \n",
       "\n",
       "  Unnamed: 3 Unnamed: 4  \n",
       "0        NaN        NaN  \n",
       "1        NaN        NaN  \n",
       "2        NaN        NaN  \n",
       "3        NaN        NaN  \n",
       "4        NaN        NaN  "
      ]
     },
     "execution_count": 2,
     "metadata": {},
     "output_type": "execute_result"
    }
   ],
   "source": [
    "df_train = pd.read_csv(\"spam.csv\", encoding = \"ISO-8859-1\")\n",
    "df_train.head()"
   ]
  },
  {
   "cell_type": "code",
   "execution_count": 9,
   "id": "93755245",
   "metadata": {},
   "outputs": [
    {
     "name": "stdout",
     "output_type": "stream",
     "text": [
      "<class 'pandas.core.frame.DataFrame'>\n",
      "RangeIndex: 5572 entries, 0 to 5571\n",
      "Data columns (total 5 columns):\n",
      " #   Column      Non-Null Count  Dtype \n",
      "---  ------      --------------  ----- \n",
      " 0   v1          5572 non-null   object\n",
      " 1   v2          5572 non-null   object\n",
      " 2   Unnamed: 2  50 non-null     object\n",
      " 3   Unnamed: 3  12 non-null     object\n",
      " 4   Unnamed: 4  6 non-null      object\n",
      "dtypes: object(5)\n",
      "memory usage: 217.8+ KB\n"
     ]
    }
   ],
   "source": [
    "df_train.info()"
   ]
  },
  {
   "cell_type": "code",
   "execution_count": 10,
   "id": "2f5a5d8d",
   "metadata": {},
   "outputs": [
    {
     "data": {
      "text/plain": [
       "v1               0\n",
       "v2               0\n",
       "Unnamed: 2    5522\n",
       "Unnamed: 3    5560\n",
       "Unnamed: 4    5566\n",
       "dtype: int64"
      ]
     },
     "execution_count": 10,
     "metadata": {},
     "output_type": "execute_result"
    }
   ],
   "source": [
    "df_train.isna().sum()"
   ]
  },
  {
   "cell_type": "code",
   "execution_count": 13,
   "id": "154f3e45",
   "metadata": {},
   "outputs": [
    {
     "name": "stdout",
     "output_type": "stream",
     "text": [
      "['ham' 'spam']\n"
     ]
    }
   ],
   "source": [
    "uniq_v1 = df_train[\"v1\"].unique()\n",
    "print(uniq_v1)"
   ]
  },
  {
   "cell_type": "markdown",
   "id": "38ac2524",
   "metadata": {},
   "source": [
    "> Note: We can use Ordinal encoding when there exists a natural rank ordering. If that doesn't exist, then go for One Hot Encoding. \n",
    "\n",
    "We don't have a natural rank ordering, hence we are going to One Hot Encode our data. "
   ]
  },
  {
   "cell_type": "markdown",
   "id": "ff96b9b7",
   "metadata": {},
   "source": [
    "We can create a custom One Hot encoder or use pre existing encoder. For the sake of self-reliance, I am going to create a custom One Hot encoder."
   ]
  },
  {
   "cell_type": "code",
   "execution_count": 65,
   "id": "a7776227",
   "metadata": {},
   "outputs": [],
   "source": [
    "def OneHotEncoder(df, df_column):\n",
    "    uniq_values = df_train[df_column].unique()\n",
    "    number_of_features = len(uniq_values)\n",
    "    main_dict = {}\n",
    "    zero_list = np.zeros(len(df))\n",
    "    for num, val in enumerate(uniq_values):\n",
    "        # If you have main_dict[val] = zero_list, then you invariably create a reference and this would mess up the One Hot Encoding\n",
    "        main_dict[val] = list(zero_list)\n",
    "    for num, record in enumerate(df_train[df_column]):\n",
    "        main_dict[str(record)][num] = 1.0\n",
    "    df_one_hot = pd.DataFrame.from_dict(main_dict)\n",
    "    frames = [df, df_one_hot]\n",
    "    df_result = pd.concat(frames,axis=1, join='inner')\n",
    "    return df_result\n"
   ]
  },
  {
   "cell_type": "code",
   "execution_count": 71,
   "id": "46295049",
   "metadata": {
    "scrolled": true
   },
   "outputs": [
    {
     "name": "stdout",
     "output_type": "stream",
     "text": [
      "     v1                                                 v2 Unnamed: 2  \\\n",
      "0   ham  Go until jurong point, crazy.. Available only ...        NaN   \n",
      "1   ham                      Ok lar... Joking wif u oni...        NaN   \n",
      "2  spam  Free entry in 2 a wkly comp to win FA Cup fina...        NaN   \n",
      "3   ham  U dun say so early hor... U c already then say...        NaN   \n",
      "4   ham  Nah I don't think he goes to usf, he lives aro...        NaN   \n",
      "\n",
      "  Unnamed: 3 Unnamed: 4  ham  spam  \n",
      "0        NaN        NaN  1.0   0.0  \n",
      "1        NaN        NaN  1.0   0.0  \n",
      "2        NaN        NaN  0.0   1.0  \n",
      "3        NaN        NaN  1.0   0.0  \n",
      "4        NaN        NaN  1.0   0.0  \n"
     ]
    }
   ],
   "source": [
    "df_result = OneHotEncoder(df_train, \"v1\")\n",
    "print(df_result.head())"
   ]
  },
  {
   "cell_type": "code",
   "execution_count": 72,
   "id": "a1b07a63",
   "metadata": {},
   "outputs": [],
   "source": [
    "import matplotlib.pyplot as plt"
   ]
  },
  {
   "cell_type": "markdown",
   "id": "2defbbd0",
   "metadata": {},
   "source": [
    "First, we are going to visually see the ratio between `ham` and `spam`. We can do this using Pie Chart. We are using `plt.pie` function. \n",
    "\n",
    "The first argument is the row value, `v1` in our case, split along different categories. "
   ]
  },
  {
   "cell_type": "code",
   "execution_count": 76,
   "id": "9ef407af",
   "metadata": {},
   "outputs": [
    {
     "data": {
      "text/plain": [
       "ham     4825\n",
       "spam     747\n",
       "Name: v1, dtype: int64"
      ]
     },
     "execution_count": 76,
     "metadata": {},
     "output_type": "execute_result"
    }
   ],
   "source": [
    "df_result[\"v1\"].value_counts()"
   ]
  },
  {
   "cell_type": "markdown",
   "id": "db042ef0",
   "metadata": {},
   "source": [
    "We can now collect the labels from the dataframe row using the `unique()` method and converting it into a list. We will use `plt.show()` to visualize the image in a neat manner. "
   ]
  },
  {
   "cell_type": "code",
   "execution_count": 77,
   "id": "76f75c63",
   "metadata": {},
   "outputs": [
    {
     "data": {
      "image/png": "[encoded data removed]",
      "text/plain": [
       "<Figure size 640x480 with 1 Axes>"
      ]
     },
     "metadata": {},
     "output_type": "display_data"
    }
   ],
   "source": [
    "plt.pie(df_result[\"v1\"].value_counts(), labels= df_result[\"v1\"].unique().tolist())\n",
    "plt.show()"
   ]
  },
  {
   "cell_type": "markdown",
   "id": "b251dda3",
   "metadata": {},
   "source": [
    "We are still missing a crucial information. We would like to see the ratio (percentage) on the pie chart. All we need to do is add `autopct` which will add numeric values to the pies. "
   ]
  },
  {
   "cell_type": "code",
   "execution_count": 78,
   "id": "6a66e927",
   "metadata": {},
   "outputs": [
    {
     "data": {
      "image/png": "[encoded data removed]",
      "text/plain": [
       "<Figure size 640x480 with 1 Axes>"
      ]
     },
     "metadata": {},
     "output_type": "display_data"
    }
   ],
   "source": [
    "plt.pie(df_result[\"v1\"].value_counts(), labels= df_result[\"v1\"].unique().tolist(), autopct= '%1.1f%%')\n",
    "plt.show()"
   ]
  },
  {
   "cell_type": "markdown",
   "id": "64b81523",
   "metadata": {},
   "source": [
    "The next few steps can be:\n",
    "1. Character Count\n",
    "2. Word Count\n",
    "3. Mean Word Length\n",
    "4. Mean Sentence Length\n",
    "5. Term Frequency Analysis\n",
    "6. Frequency of N-grams\n",
    "\n",
    "I am done for the day with EDA but I will be slowly working on this. "
   ]
  }
 ],
 "metadata": {
  "kernelspec": {
   "display_name": "Python 3 (ipykernel)",
   "language": "python",
   "name": "python3"
  },
  "language_info": {
   "codemirror_mode": {
    "name": "ipython",
    "version": 3
   },
   "file_extension": ".py",
   "mimetype": "text/x-python",
   "name": "python",
   "nbconvert_exporter": "python",
   "pygments_lexer": "ipython3",
   "version": "3.11.3"
  }
 },
 "nbformat": 4,
 "nbformat_minor": 5
}
