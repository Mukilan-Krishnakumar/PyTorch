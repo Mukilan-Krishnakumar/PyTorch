{
 "cells": [
  {
   "cell_type": "markdown",
   "id": "758f7e37",
   "metadata": {},
   "source": [
    "# Recurrent Neural Networks\n",
    "\n",
    "Welcome to the Paper implementation section. This is the first notebook, I will be implementing a simple RNN. It has been made much easier for us by the `nn.RNN` abstraction provided by PyTorch. We will be using that to create a simple `Spam Classifier`. \n",
    "\n",
    "The dataset for the following tutorial can be downloaded from Kaggle - [Link](https://www.kaggle.com/datasets/uciml/sms-spam-collection-dataset)\n",
    "\n",
    "Let's get started!"
   ]
  },
  {
   "cell_type": "code",
   "execution_count": null,
   "id": "a39ce430",
   "metadata": {},
   "outputs": [],
   "source": []
  }
 ],
 "metadata": {
  "kernelspec": {
   "display_name": "Python 3 (ipykernel)",
   "language": "python",
   "name": "python3"
  },
  "language_info": {
   "codemirror_mode": {
    "name": "ipython",
    "version": 3
   },
   "file_extension": ".py",
   "mimetype": "text/x-python",
   "name": "python",
   "nbconvert_exporter": "python",
   "pygments_lexer": "ipython3",
   "version": "3.11.3"
  }
 },
 "nbformat": 4,
 "nbformat_minor": 5
}
